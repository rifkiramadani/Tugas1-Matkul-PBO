{
  "nbformat": 4,
  "nbformat_minor": 0,
  "metadata": {
    "colab": {
      "provenance": [],
      "authorship_tag": "ABX9TyODg2/mLZ9VYMailOWjSNL+",
      "include_colab_link": true
    },
    "kernelspec": {
      "name": "python3",
      "display_name": "Python 3"
    },
    "language_info": {
      "name": "python"
    }
  },
  "cells": [
    {
      "cell_type": "markdown",
      "metadata": {
        "id": "view-in-github",
        "colab_type": "text"
      },
      "source": [
        "<a href=\"https://colab.research.google.com/github/rifkiramadani/Tugas1-Matkul-PBO/blob/main/Tugas1_Nomor_2_2_PBO.ipynb\" target=\"_parent\"><img src=\"https://colab.research.google.com/assets/colab-badge.svg\" alt=\"Open In Colab\"/></a>"
      ]
    },
    {
      "cell_type": "code",
      "execution_count": 1,
      "metadata": {
        "colab": {
          "base_uri": "https://localhost:8080/"
        },
        "id": "AN0KXnfi8Fw9",
        "outputId": "eca44cb4-9b53-4cec-86f9-8422064543a2"
      },
      "outputs": [
        {
          "output_type": "stream",
          "name": "stdout",
          "text": [
            "1 adalah bilangan ganjil\n",
            "2 adalah bilangan genap\n",
            "3 adalah bilangan ganjil\n",
            "4 adalah bilangan genap\n",
            "5 adalah bilangan ganjil\n"
          ]
        }
      ],
      "source": [
        "j = 1\n",
        "while j <= 5:\n",
        "    if j % 2 == 0:\n",
        "        print(f\"{j} adalah bilangan genap\")\n",
        "    else:\n",
        "        print(f\"{j} adalah bilangan ganjil\")\n",
        "    j += 1\n"
      ]
    }
  ]
}