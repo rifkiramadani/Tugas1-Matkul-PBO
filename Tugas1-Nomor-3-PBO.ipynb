{
  "nbformat": 4,
  "nbformat_minor": 0,
  "metadata": {
    "colab": {
      "provenance": [],
      "authorship_tag": "ABX9TyNb+6xgtK8SmvAbWRjFFQgu",
      "include_colab_link": true
    },
    "kernelspec": {
      "name": "python3",
      "display_name": "Python 3"
    },
    "language_info": {
      "name": "python"
    }
  },
  "cells": [
    {
      "cell_type": "markdown",
      "metadata": {
        "id": "view-in-github",
        "colab_type": "text"
      },
      "source": [
        "<a href=\"https://colab.research.google.com/github/rifkiramadani/Tugas1-Matkul-PBO/blob/main/Tugas1-Nomor-3-PBO.ipynb\" target=\"_parent\"><img src=\"https://colab.research.google.com/assets/colab-badge.svg\" alt=\"Open In Colab\"/></a>"
      ]
    },
    {
      "cell_type": "code",
      "execution_count": 2,
      "metadata": {
        "id": "lvpYQ7_e8cyt",
        "colab": {
          "base_uri": "https://localhost:8080/"
        },
        "outputId": "3d088df1-01de-4276-912e-cdc9c3e4bc4f"
      },
      "outputs": [
        {
          "output_type": "stream",
          "name": "stdout",
          "text": [
            "1\n",
            "2\n",
            "3\n",
            "4\n",
            "5\n"
          ]
        }
      ],
      "source": [
        "#membuat Variable yang berisikan Array\n",
        "arr = [1, 2, 3, 4, 5]\n",
        "\n",
        "# menampilkan nilai array menggunakan perulangan for\n",
        "for nilai in arr:\n",
        "    print(nilai)\n"
      ]
    }
  ]
}