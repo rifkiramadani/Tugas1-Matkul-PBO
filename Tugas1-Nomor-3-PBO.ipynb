{
  "nbformat": 4,
  "nbformat_minor": 0,
  "metadata": {
    "colab": {
      "provenance": [],
      "authorship_tag": "ABX9TyMs7FMGawCLESrQNp7Q8f9P",
      "include_colab_link": true
    },
    "kernelspec": {
      "name": "python3",
      "display_name": "Python 3"
    },
    "language_info": {
      "name": "python"
    }
  },
  "cells": [
    {
      "cell_type": "markdown",
      "metadata": {
        "id": "view-in-github",
        "colab_type": "text"
      },
      "source": [
        "<a href=\"https://colab.research.google.com/github/rifkiramadani/Tugas1-Matkul-PBO/blob/main/Tugas1-Nomor-3-PBO.ipynb\" target=\"_parent\"><img src=\"https://colab.research.google.com/assets/colab-badge.svg\" alt=\"Open In Colab\"/></a>"
      ]
    },
    {
      "cell_type": "code",
      "execution_count": null,
      "metadata": {
        "id": "lvpYQ7_e8cyt"
      },
      "outputs": [],
      "source": [
        "#membuat Variable yang berisikan Array\n",
        "arr = [1, 2, 3, 4, 5]\n",
        "\n",
        "# menampilkan nilai array menggunakan perulangan for\n",
        "for nilai in arr:\n",
        "    print(nilai)\n"
      ]
    }
  ]
}
