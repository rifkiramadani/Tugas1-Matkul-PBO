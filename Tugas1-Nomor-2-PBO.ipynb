{
  "nbformat": 4,
  "nbformat_minor": 0,
  "metadata": {
    "colab": {
      "provenance": [],
      "authorship_tag": "ABX9TyOGKH6VZ74lf13SaYT3ZxrT",
      "include_colab_link": true
    },
    "kernelspec": {
      "name": "python3",
      "display_name": "Python 3"
    },
    "language_info": {
      "name": "python"
    }
  },
  "cells": [
    {
      "cell_type": "markdown",
      "metadata": {
        "id": "view-in-github",
        "colab_type": "text"
      },
      "source": [
        "<a href=\"https://colab.research.google.com/github/rifkiramadani/Tugas1-Matkul-PBO/blob/main/Tugas1-Nomor-2-PBO.ipynb\" target=\"_parent\"><img src=\"https://colab.research.google.com/assets/colab-badge.svg\" alt=\"Open In Colab\"/></a>"
      ]
    },
    {
      "cell_type": "code",
      "execution_count": 1,
      "metadata": {
        "colab": {
          "base_uri": "https://localhost:8080/"
        },
        "id": "FXnq12MZ60kw",
        "outputId": "3090c296-467a-427a-d0f4-e786bc690ca3"
      },
      "outputs": [
        {
          "output_type": "stream",
          "name": "stdout",
          "text": [
            "1 adalah bilangan ganjil\n",
            "2 adalah bilangan genap\n",
            "3 adalah bilangan ganjil\n",
            "4 adalah bilangan genap\n",
            "5 adalah bilangan ganjil\n"
          ]
        }
      ],
      "source": [
        "for i in range(1, 6):\n",
        "    if i % 2 == 0:\n",
        "        print(f\"{i} adalah bilangan genap\")\n",
        "    else:\n",
        "        print(f\"{i} adalah bilangan ganjil\")\n"
      ]
    }
  ]
}